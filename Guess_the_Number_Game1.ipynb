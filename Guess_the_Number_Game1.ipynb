{
  "nbformat": 4,
  "nbformat_minor": 0,
  "metadata": {
    "colab": {
      "provenance": [],
      "authorship_tag": "ABX9TyOQy4Xu055+I0+FialBKRiG",
      "include_colab_link": true
    },
    "kernelspec": {
      "name": "python3",
      "display_name": "Python 3"
    },
    "language_info": {
      "name": "python"
    }
  },
  "cells": [
    {
      "cell_type": "markdown",
      "metadata": {
        "id": "view-in-github",
        "colab_type": "text"
      },
      "source": [
        "<a href=\"https://colab.research.google.com/github/pragnajessi/Guess-the-Number-Game/blob/main/Guess_the_Number_Game1.ipynb\" target=\"_parent\"><img src=\"https://colab.research.google.com/assets/colab-badge.svg\" alt=\"Open In Colab\"/></a>"
      ]
    },
    {
      "cell_type": "code",
      "execution_count": 1,
      "metadata": {
        "colab": {
          "base_uri": "https://localhost:8080/"
        },
        "id": "d0bahNTXmuqB",
        "outputId": "32c43596-9d71-43b1-f285-f46c1a9a5653"
      },
      "outputs": [
        {
          "output_type": "stream",
          "name": "stdout",
          "text": [
            "---Welcome to Guess The Number Game---\n",
            "Guess A Number: 60\n",
            "Too High!! Try again.\n",
            "Guess A Number: 45\n",
            "Too Low!! Try again.\n",
            "Guess A Number: 55\n",
            "Too High!! Try again.\n",
            "Guess A Number: 50\n",
            "Too Low!! Try again.\n",
            "Guess A Number: 53\n",
            "Congragulations!! You have Won Game in attempts: 5\n"
          ]
        }
      ],
      "source": [
        "import random\n",
        "print(\"---Welcome to Guess The Number Game---\")\n",
        "secret_number=random.randint(1,100)\n",
        "attempts=0\n",
        "while True:\n",
        "  guess=int(input(\"Guess A Number: \"))\n",
        "  attempts +=1\n",
        "  if guess == secret_number:\n",
        "    print(\"Congragulations!! You have Won Game in attempts:\",attempts)\n",
        "    break\n",
        "  elif guess <= secret_number:\n",
        "    print(\"Too Low!! Try again.\")\n",
        "  else:\n",
        "    print(\"Too High!! Try again.\")\n",
        ""
      ]
    }
  ]
}